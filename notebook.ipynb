{
 "cells": [
  {
   "cell_type": "code",
   "execution_count": null,
   "id": "b7397b81",
   "metadata": {},
   "outputs": [
    {
     "name": "stderr",
     "output_type": "stream",
     "text": [
      "/home/azar/.local/lib/python3.12/site-packages/tqdm/auto.py:21: TqdmWarning: IProgress not found. Please update jupyter and ipywidgets. See https://ipywidgets.readthedocs.io/en/stable/user_install.html\n",
      "  from .autonotebook import tqdm as notebook_tqdm\n"
     ]
    }
   ],
   "source": [
    "import google.generativeai as genai\n",
    "\n",
    "# Configure the API key (replace with your actual API key or environment variable)\n",
    "genai.configure(api_key='YOUR_API_KEY')\n",
    "\n",
    "# Load a generative model, for example, 'gemini-pro'\n",
    "model = genai.GenerativeModel('gemini-1.5-flash')\n"
   ]
  },
  {
   "cell_type": "code",
   "execution_count": 14,
   "id": "af6d3f13",
   "metadata": {},
   "outputs": [],
   "source": [
    "import PyPDF2\n",
    "\n",
    "# Open PDF file\n",
    "with open(\"resume-1.pdf\", \"rb\") as file:\n",
    "    reader = PyPDF2.PdfReader(file)\n",
    "    resume = \"\"\n",
    "    for page in reader.pages:\n",
    "        resume += page.extract_text() + \"\\n\"\n",
    "\n"
   ]
  },
  {
   "cell_type": "code",
   "execution_count": null,
   "id": "92c42548",
   "metadata": {},
   "outputs": [],
   "source": [
    "final_prompt = f\"\"\"\n",
    "You are an information extraction system. \n",
    "Your task is to carefully analyze the following resume and return a JSON object \n",
    "with the following fields:\n",
    "\n",
    "- name (string)\n",
    "- surname (string)\n",
    "- phone_number (string, or null if not found)\n",
    "- email (string, or null if not found)\n",
    "- location (string, e.g. city, country, or null if not found)\n",
    "- certificates (list of strings, empty if none)\n",
    "- experience (list of objects, each with:\n",
    "    - job_title (string)\n",
    "    - company (string)\n",
    "    - start_date (string or null if not available)\n",
    "    - end_date (string or \"Present\" if ongoing, or null if not available)\n",
    "    - description (string summarizing responsibilities)\n",
    "  )\n",
    "- projects (list of objects, each with:\n",
    "    - title (string)\n",
    "    - description (string summarizing the project)\n",
    "    - technologies (list of strings, empty if not available)\n",
    "  )\n",
    "\n",
    "Make sure the JSON is valid and well-formatted. \n",
    "If some fields are missing in the resume, return them as null or empty lists instead of skipping.\n",
    "\n",
    "Resume text:\n",
    "{resume}\n",
    "\"\"\"\n"
   ]
  },
  {
   "cell_type": "code",
   "execution_count": null,
   "id": "b489d831",
   "metadata": {},
   "outputs": [],
   "source": [
    "final_prompt = f\"\"\"\n",
    "Vous êtes un système d’extraction d’informations.  \n",
    "Votre tâche est d’analyser attentivement le CV suivant et de retourner un objet JSON \n",
    "avec les champs suivants :\n",
    "\n",
    "- nom (string)\n",
    "- prénom (string)\n",
    "- numéro_téléphone (string, ou null si non trouvé)\n",
    "- email (string, ou null si non trouvé)\n",
    "- lieu (string, ex. ville, pays, ou null si non trouvé)\n",
    "- certificats (liste de chaînes de caractères, vide si aucun)\n",
    "- expériences (liste d’objets, chacun avec :\n",
    "    - poste (string)\n",
    "    - entreprise (string)\n",
    "    - date_début (string ou null si non disponible)\n",
    "    - date_fin (string ou \"Actuel\" si en cours, ou null si non disponible)\n",
    "    - description (string résumant les responsabilités)\n",
    "  )\n",
    "\n",
    "Assurez-vous que le JSON soit valide et bien formaté.  \n",
    "Si certains champs sont absents du CV, retournez-les comme null ou listes vides au lieu de les ignorer.\n",
    "\n",
    "Texte du CV :  \n",
    "{resume}\n",
    "\"\"\"\n"
   ]
  },
  {
   "cell_type": "code",
   "execution_count": 8,
   "id": "a28a0265",
   "metadata": {},
   "outputs": [
    {
     "name": "stdout",
     "output_type": "stream",
     "text": [
      "```json\n",
      "{\n",
      "  \"name\": \"Benmalek\",\n",
      "  \"surname\": \"Zohir\",\n",
      "  \"phone_number\": \"+213 559 503 713\",\n",
      "  \"email\": \"azariomalek@gmail.com\",\n",
      "  \"location\": \"Tlemcen, Algeria\",\n",
      "  \"certificates\": [\n",
      "    \"Oracle Cloud Infrastructure 2024 Generative AI Certified Professional\",\n",
      "    \"AWS Cloud Practitioner Essentials\",\n",
      "    \"Customizing and Evaluating LLMs using Amazon SageMaker JumpStart\",\n",
      "    \"Building RAG Agents with LLMs (NVIDIA)\",\n",
      "    \"Build Chat Applications with OpenAI and LangChain (365 Data Science)\",\n",
      "    \"The Machine Learning Process A-Z (365 Data Science)\",\n",
      "    \"MongoDB Python Developer Path\",\n",
      "    \"EF SET Certificate (Level C1 Advanced)\"\n",
      "  ],\n",
      "  \"experience\": [\n",
      "    {\n",
      "      \"job_title\": \"Content Creator\",\n",
      "      \"company\": null,\n",
      "      \"start_date\": \"May 2024\",\n",
      "      \"end_date\": \"Present\",\n",
      "      \"description\": \"Created over 140 educational TikTok videos on Python topics such as RAG systems, chatbots, and data analysis. Conducted 2 workshops at Algeria2.0: –Data Analysis with Python –Advanced Python Programming: Building a RAG System. Delivered a talk at Algeria2.0: –Creating a Chatbot Connected to a MySQL Database.\"\n",
      "    }\n",
      "  ]\n",
      "}\n",
      "```\n",
      "\n"
     ]
    }
   ],
   "source": [
    "# Generate content\n",
    "response = model.generate_content(final_prompt)\n",
    "print(response.text)"
   ]
  },
  {
   "cell_type": "code",
   "execution_count": 10,
   "id": "f92be10d",
   "metadata": {},
   "outputs": [],
   "source": [
    "import json\n",
    "import re\n",
    "def clean_code_json(response: str) -> dict:\n",
    "    \"\"\"\n",
    "    Cleans a JSON-like response that may include markdown code fences and invalid characters.\n",
    "    Returns a valid Python dictionary.\n",
    "    \"\"\"\n",
    "    # Step 1: Remove BOM or weird hidden characters\n",
    "    response = response.strip().lstrip(\"\\ufeff\").strip()\n",
    "    \n",
    "    # Step 2: Extract JSON between first { and last }\n",
    "    match = re.search(r\"\\{.*\\}\", response, re.DOTALL)\n",
    "    if not match:\n",
    "        raise ValueError(\"No valid JSON object found in response\")\n",
    "    json_str = match.group(0)\n",
    "    \n",
    "    # Step 3: Parse JSON safely\n",
    "    data = json.loads(json_str)\n",
    "    return data"
   ]
  },
  {
   "cell_type": "code",
   "execution_count": 12,
   "id": "e9a28025",
   "metadata": {},
   "outputs": [],
   "source": [
    "cleaned_data = clean_code_json(response.text)"
   ]
  },
  {
   "cell_type": "code",
   "execution_count": 13,
   "id": "b8d52091",
   "metadata": {},
   "outputs": [
    {
     "data": {
      "text/plain": [
       "{'name': 'Benmalek',\n",
       " 'surname': 'Zohir',\n",
       " 'phone_number': '+213 559 503 713',\n",
       " 'email': 'azariomalek@gmail.com',\n",
       " 'location': 'Tlemcen, Algeria',\n",
       " 'certificates': ['Oracle Cloud Infrastructure 2024 Generative AI Certified Professional',\n",
       "  'AWS Cloud Practitioner Essentials',\n",
       "  'Customizing and Evaluating LLMs using Amazon SageMaker JumpStart',\n",
       "  'Building RAG Agents with LLMs (NVIDIA)',\n",
       "  'Build Chat Applications with OpenAI and LangChain (365 Data Science)',\n",
       "  'The Machine Learning Process A-Z (365 Data Science)',\n",
       "  'MongoDB Python Developer Path',\n",
       "  'EF SET Certificate (Level C1 Advanced)'],\n",
       " 'experience': [{'job_title': 'Content Creator',\n",
       "   'company': None,\n",
       "   'start_date': 'May 2024',\n",
       "   'end_date': 'Present',\n",
       "   'description': 'Created over 140 educational TikTok videos on Python topics such as RAG systems, chatbots, and data analysis. Conducted 2 workshops at Algeria2.0: –Data Analysis with Python –Advanced Python Programming: Building a RAG System. Delivered a talk at Algeria2.0: –Creating a Chatbot Connected to a MySQL Database.'}]}"
      ]
     },
     "execution_count": 13,
     "metadata": {},
     "output_type": "execute_result"
    }
   ],
   "source": [
    "cleaned_data"
   ]
  },
  {
   "cell_type": "code",
   "execution_count": null,
   "id": "fb69ac4b",
   "metadata": {},
   "outputs": [],
   "source": []
  }
 ],
 "metadata": {
  "kernelspec": {
   "display_name": "Python 3",
   "language": "python",
   "name": "python3"
  },
  "language_info": {
   "codemirror_mode": {
    "name": "ipython",
    "version": 3
   },
   "file_extension": ".py",
   "mimetype": "text/x-python",
   "name": "python",
   "nbconvert_exporter": "python",
   "pygments_lexer": "ipython3",
   "version": "3.12.3"
  }
 },
 "nbformat": 4,
 "nbformat_minor": 5
}
